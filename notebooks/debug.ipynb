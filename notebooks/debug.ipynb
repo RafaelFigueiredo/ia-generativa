{
 "cells": [
  {
   "cell_type": "code",
   "execution_count": 1,
   "metadata": {},
   "outputs": [],
   "source": [
    "import duckdb"
   ]
  },
  {
   "cell_type": "code",
   "execution_count": 2,
   "metadata": {},
   "outputs": [],
   "source": [
    "db = duckdb.connect('file.db')"
   ]
  },
  {
   "cell_type": "code",
   "execution_count": 3,
   "metadata": {},
   "outputs": [
    {
     "data": {
      "text/plain": [
       "False"
      ]
     },
     "execution_count": 3,
     "metadata": {},
     "output_type": "execute_result"
    }
   ],
   "source": [
    "db.sql('SELECT COUNT(*) FROM files').fetchall()[0][0] == 0\n",
    "\n",
    "\n"
   ]
  },
  {
   "cell_type": "code",
   "execution_count": 4,
   "metadata": {},
   "outputs": [
    {
     "data": {
      "text/plain": [
       "┌──────────────────────┬──────────────────────┬────────────────────────────────────────────────────────────────────────┐\n",
       "│          id          │         path         │                                content                                 │\n",
       "│       varchar        │       varchar        │                                varchar                                 │\n",
       "├──────────────────────┼──────────────────────┼────────────────────────────────────────────────────────────────────────┤\n",
       "│ 96af7e2be6d3162125…  │ uploads/524_icmlpa…  │ Generating Text with Recurrent Neural Networks\\n\\nIlya Sutskever\\nJa…  │\n",
       "│ d0cbcae87ff68c4ed3…  │ uploads/Jordan-TR-…  │ SERIAL ORDER:\\nA PARALLEL DISTRmUTED\\nPROCESSING APPROACH\\nMichael I…  │\n",
       "└──────────────────────┴──────────────────────┴────────────────────────────────────────────────────────────────────────┘"
      ]
     },
     "execution_count": 4,
     "metadata": {},
     "output_type": "execute_result"
    }
   ],
   "source": [
    "db.sql('SELECT * FROM files')\n"
   ]
  },
  {
   "cell_type": "code",
   "execution_count": 8,
   "metadata": {},
   "outputs": [
    {
     "data": {
      "text/plain": [
       "┌──────────────────────┬───────┬──────────────────────┬────────────────────────────────────────────────────────────────┐\n",
       "│        doc_id        │   n   │       content        │                           embeddings                           │\n",
       "│       varchar        │ int32 │       varchar        │                          float[1536]                           │\n",
       "├──────────────────────┼───────┼──────────────────────┼────────────────────────────────────────────────────────────────┤\n",
       "│ 96af7e2be6d3162125…  │     0 │ Generating Text wi…  │ [-0.023815464, 0.022999544, 0.06148978, -0.020244328, -0.008…  │\n",
       "│ 96af7e2be6d3162125…  │     1 │ University of Toro…  │ [-0.004005965, -0.010212258, 0.053255405, 0.053653203, -0.04…  │\n",
       "│ 96af7e2be6d3162125…  │     2 │ Recurrent Neural N…  │ [-0.009322057, 0.017306471, -0.04171546, -0.007966659, 0.037…  │\n",
       "│ 96af7e2be6d3162125…  │     3 │ powerful sequence …  │ [0.012361645, 0.029261313, 0.021714205, -0.0080675995, -0.00…  │\n",
       "│ 96af7e2be6d3162125…  │     4 │ widespread use bec…  │ [0.011168033, 0.00076025276, 0.060806092, 0.040603325, 0.046…  │\n",
       "│ 96af7e2be6d3162125…  │     5 │ been able to overc…  │ [0.061084468, -0.040022764, 0.076507606, 0.024350867, -0.004…  │\n",
       "│ 96af7e2be6d3162125…  │     6 │ with training RNNs…  │ [-0.013528328, -0.003348169, 0.030065693, -0.022937732, 0.02…  │\n",
       "│ 96af7e2be6d3162125…  │     7 │ them successfully …  │ [0.059742678, -0.026812559, 0.027005455, 0.00976881, 0.02303…  │\n",
       "│ 96af7e2be6d3162125…  │     8 │ of RNNs trained wi…  │ [-0.026119838, 0.022791583, 0.05087294, -0.026094528, 0.0113…  │\n",
       "│ 96af7e2be6d3162125…  │     9 │ language modeling …  │ [-0.035827115, -0.0021085138, 0.027933402, -0.012721562, -0.…  │\n",
       "│          ·           │     · │          ·           │                               ·                                │\n",
       "│          ·           │     · │          ·           │                               ·                                │\n",
       "│          ·           │     · │          ·           │                               ·                                │\n",
       "│ d0cbcae87ff68c4ed3…  │  1140 │ Shaffer, L. H., & …  │ [-0.0034906426, 0.01057057, 0.0066185384, -0.018608276, 0.03…  │\n",
       "│ d0cbcae87ff68c4ed3…  │  1141 │ Shiffrin, R. M., &…  │ [-0.008772029, 0.016636819, -0.015165619, -0.018892657, 0.03…  │\n",
       "│ d0cbcae87ff68c4ed3…  │  1142 │ PerceptuaIlearning…  │ [-0.013938706, 0.028098078, 0.013509635, 0.028294226, -0.013…  │\n",
       "│ d0cbcae87ff68c4ed3…  │  1143 │ Sternberg, S., Mon…  │ [-0.056025762, 0.038251508, 0.0105662625, -0.033719208, -0.0…  │\n",
       "│ d0cbcae87ff68c4ed3…  │  1144 │ movement sequences…  │ [-0.010162819, 0.01034228, 0.008860065, -0.04214014, 0.02395…  │\n",
       "│ d0cbcae87ff68c4ed3…  │  1145 │ processing in moto…  │ [0.0065427315, 0.013737323, -0.0148116825, 0.0041073146, 0.0…  │\n",
       "│ d0cbcae87ff68c4ed3…  │  1146 │ Wickelgren, W. A. …  │ [0.00616342, 0.027881829, 0.0012138098, -0.0045591085, -0.02…  │\n",
       "│ d0cbcae87ff68c4ed3…  │  1147 │ behavior. Psycholo…  │ [0.0054171453, 0.048393548, 0.0054315757, 0.08219515, -0.007…  │\n",
       "│ d0cbcae87ff68c4ed3…  │  1148 │ Widrow, G., & Hoff…  │ [-0.030856831, 0.0026989102, 0.0061664074, -0.005118012, -0.…  │\n",
       "│ d0cbcae87ff68c4ed3…  │  1149 │ Electronic Show an…  │ [0.03601089, 0.0028629215, 0.0022002403, 0.012356132, -0.002…  │\n",
       "├──────────────────────┴───────┴──────────────────────┴────────────────────────────────────────────────────────────────┤\n",
       "│ 1675 rows (20 shown)                                                                                       4 columns │\n",
       "└──────────────────────────────────────────────────────────────────────────────────────────────────────────────────────┘"
      ]
     },
     "execution_count": 8,
     "metadata": {},
     "output_type": "execute_result"
    }
   ],
   "source": [
    "db.sql('SELECT * FROM sections ORDER BY doc_id, n')\n"
   ]
  },
  {
   "cell_type": "code",
   "execution_count": null,
   "metadata": {},
   "outputs": [],
   "source": []
  }
 ],
 "metadata": {
  "kernelspec": {
   "display_name": "app-Lsut3v1V-py3.11",
   "language": "python",
   "name": "python3"
  },
  "language_info": {
   "codemirror_mode": {
    "name": "ipython",
    "version": 3
   },
   "file_extension": ".py",
   "mimetype": "text/x-python",
   "name": "python",
   "nbconvert_exporter": "python",
   "pygments_lexer": "ipython3",
   "version": "3.11.9"
  }
 },
 "nbformat": 4,
 "nbformat_minor": 2
}
